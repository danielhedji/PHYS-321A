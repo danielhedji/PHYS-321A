{
 "cells": [
  {
   "cell_type": "code",
   "execution_count": 1,
   "metadata": {},
   "outputs": [],
   "source": [
    "#Daniel Hedji\n",
    "#V00887395\n",
    "#PHYS 321A, A01\n",
    "#Numerical Assignment 3"
   ]
  },
  {
   "cell_type": "code",
   "execution_count": 2,
   "metadata": {},
   "outputs": [],
   "source": [
    "import matplotlib.pyplot as plt\n",
    "import numpy as np\n",
    "from scipy.integrate import odeint"
   ]
  },
  {
   "cell_type": "code",
   "execution_count": 3,
   "metadata": {},
   "outputs": [
    {
     "name": "stdout",
     "output_type": "stream",
     "text": [
      "The required ground speed of the plane is approximately: 80.0 m/s\n"
     ]
    }
   ],
   "source": [
    "#a\n",
    "#constants\n",
    "Cd = 0.47\n",
    "r = 0.2\n",
    "m = 100\n",
    "A = np.pi * r ** 2\n",
    "rhoa = 1.\n",
    "g = 9.81\n",
    "\n",
    "c2 = 0.5 * Cd * rhoa * A\n",
    "a = -g\n",
    "b = -c2/m\n",
    "#changing given constants to meters per second\n",
    "vcb = 60 / 0.621371\n",
    "vcb = vcb * (1000./3600.)\n",
    "altitude = 50000 * 0.3048\n",
    "#differential equation for this problem\n",
    "def dy_dt(y, t, a, b, vw):\n",
    "    y1, y2, y3, y4 = y\n",
    "    dydt = [y2, b*(y2+vw)*np.sqrt((y2+vw)**2+y4**2), \n",
    "            y4, a+b*y4*np.sqrt((y2+vw)**2+y4**2)]\n",
    "    return dydt\n",
    "#more constants\n",
    "t = np.linspace(0,100,10000)\n",
    "vg = np.linspace(100,0,1000)\n",
    "yt = []\n",
    "xt = []\n",
    "minx = 10\n",
    "miny = 10\n",
    "vground = 0\n",
    "#using different ground speeds to find how fast the airplane was\n",
    "#initially moving\n",
    "for i in range(len(vg)):\n",
    "    #initial conditions\n",
    "    y0 = [0., vg[i], altitude, 0.]\n",
    "    #solving ODE\n",
    "    sol = odeint(dy_dt, y0, t, args=(a, b, vcb))\n",
    "    #extracting x position and y position from sol\n",
    "    x1 = sol[:,0]\n",
    "    y1 = sol[:,2]\n",
    "    #cuts off data when less than 0\n",
    "    k = 0\n",
    "    while k < len(x1):\n",
    "        if (x1[k] < 0):\n",
    "            x1 = x1[:k]\n",
    "            y1 = y1[:k]\n",
    "        k +=1\n",
    "    #finds closest distance to 0\n",
    "    if (np.sqrt(x1[-1] ** 2 + y1[-1] **2) < np.sqrt(minx ** 2 + miny ** 2)):\n",
    "        vground = vg[i]\n",
    "        minx = x1[-1]\n",
    "        miny = y1[-1]\n",
    "        xt = x1\n",
    "        yt = y1 \n",
    "print(\"The required ground speed of the plane is approximately:\", \\\n",
    "      round(vground), \"m/s\")"
   ]
  },
  {
   "cell_type": "code",
   "execution_count": 4,
   "metadata": {},
   "outputs": [
    {
     "data": {
      "text/plain": [
       "Text(0.5, 1.0, 'Bomb trajectory')"
      ]
     },
     "execution_count": 4,
     "metadata": {},
     "output_type": "execute_result"
    },
    {
     "data": {
      "image/png": "[encoded data removed]",
      "text/plain": [
       "<Figure size 432x288 with 1 Axes>"
      ]
     },
     "metadata": {
      "needs_background": "light"
     },
     "output_type": "display_data"
    }
   ],
   "source": [
    "#b\n",
    "#plotting data found\n",
    "plt.plot(xt,yt, color = \"g\")\n",
    "plt.xlabel(\"Horizontal Distance (m)\")\n",
    "plt.ylabel(\"Distance from plane to ground (m)\")\n",
    "plt.title(\"Bomb trajectory\")"
   ]
  },
  {
   "cell_type": "markdown",
   "metadata": {},
   "source": [
    "The reason the \"trailing side\" of the trajectory is linear is due to the bomb reaching terminal velocity. When the bomb starts to drop linearly, this indicates a constant velocity, this is when the wind completely takes over the direction, but since the bomb is limited by the air resistance, it cannot exceed its terminal velocity."
   ]
  },
  {
   "cell_type": "code",
   "execution_count": 5,
   "metadata": {},
   "outputs": [
    {
     "name": "stdout",
     "output_type": "stream",
     "text": [
      "The pilot will have to stay at a speed within the range of: 73.0 m/s and 86.0 m/s\n"
     ]
    }
   ],
   "source": [
    "#c\n",
    "#constants\n",
    "vg = np.linspace(90,70,100)\n",
    "yt = []\n",
    "xt = []\n",
    "minx = 10\n",
    "miny = 10\n",
    "vground_low = 0\n",
    "vground_high = 0\n",
    "#same process for a, except limiting range from -100 to 100\n",
    "for i in range(len(vg)):\n",
    "    y0 = [0., vg[i], altitude, 0.]\n",
    "    sol = odeint(dy_dt, y0, t, args=(a, b, vcb))\n",
    "    x1 = sol[:,0]\n",
    "    y1 = sol[:,2]\n",
    "    k = 0\n",
    "    #cut off data below -100m\n",
    "    while k < len(x1):\n",
    "        if (x1[k] < -100):\n",
    "            x1 = x1[:k]\n",
    "            y1 = y1[:k]\n",
    "        k +=1\n",
    "    q = 0\n",
    "    #cut off data higher than 100m\n",
    "    while q < len(x1):\n",
    "        if (x1[q] < 100):\n",
    "            x1 = x1[q:]\n",
    "            y1 = y1[q:]\n",
    "        q += 1\n",
    "    #finding closest values to -100 and 100\n",
    "    if (abs(x1[0] - 100) < minx):\n",
    "        vground_high = vg[i]\n",
    "        minx = abs(x1[0] - 100)\n",
    "    if (abs(x1[-1] + 100) < miny):\n",
    "        miny = abs(x1[-1] + 100)\n",
    "        vground_low = vg[i]\n",
    "print(\"The pilot will have to stay at a speed within the range of:\", \\\n",
    "      round(vground_low), \"m/s and\", round(vground_high), \"m/s\")"
   ]
  },
  {
   "cell_type": "code",
   "execution_count": null,
   "metadata": {},
   "outputs": [],
   "source": []
  }
 ],
 "metadata": {
  "kernelspec": {
   "display_name": "Python 3",
   "language": "python",
   "name": "python3"
  },
  "language_info": {
   "codemirror_mode": {
    "name": "ipython",
    "version": 3
   },
   "file_extension": ".py",
   "mimetype": "text/x-python",
   "name": "python",
   "nbconvert_exporter": "python",
   "pygments_lexer": "ipython3",
   "version": "3.7.3"
  }
 },
 "nbformat": 4,
 "nbformat_minor": 2
}
