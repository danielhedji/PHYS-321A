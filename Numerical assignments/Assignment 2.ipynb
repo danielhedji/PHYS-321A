{
 "cells": [
  {
   "cell_type": "code",
   "execution_count": 2,
   "metadata": {},
   "outputs": [],
   "source": [
    "import numpy as np\n",
    "import matplotlib.pyplot as plt\n",
    "from scipy import integrate\n",
    "from scipy.interpolate import interp1d"
   ]
  },
  {
   "cell_type": "code",
   "execution_count": 7,
   "metadata": {},
   "outputs": [],
   "source": [
    "#a\n",
    "#constants\n",
    "L = 1\n",
    "g = 9.81\n",
    "wo = np.sqrt(g/L)\n",
    "T = 2*np.pi*(1/wo)\n",
    "#function making the ODE\n",
    "def dy_dt(y,t,wo):\n",
    "    y1, y2 = y\n",
    "    dydt = [y2, -wo**2*np.sin(y1)]\n",
    "    return dydt\n",
    "#more constants\n",
    "diff = 0.01 * T\n",
    "t_start = 0.\n",
    "t_end = 4. \n",
    "nt = 10000 \n",
    "t = np.linspace(t_start, t_end, nt)\n",
    "#theta value that was used for the initial condition\n",
    "theta0 = np.pi/10\n",
    "y0 = [theta0, 0.]\n",
    "#solving the ODE\n",
    "sol = integrate.odeint(dy_dt, y0, t, args=(wo,))"
   ]
  },
  {
   "cell_type": "code",
   "execution_count": 10,
   "metadata": {},
   "outputs": [
    {
     "name": "stdout",
     "output_type": "stream",
     "text": [
      "Using a range of  1.98601  =< Period =<  2.02613 the angle \n",
      "0.31416 was used to find a period of  2.01851 using a theoretical period value of  2.00607\n"
     ]
    }
   ],
   "source": [
    "theta = sol[0,0]\n",
    "k = 0\n",
    "#takes all the solution values greater than 0\n",
    "while theta > 0.:\n",
    "    k += 1\n",
    "    theta = sol[k,0]\n",
    "        \n",
    "k = k+10 \n",
    "#interpolates the data given to produce a better period\n",
    "f = interp1d(sol[0:k,0],t[0:k])\n",
    "period = 4.*f(0.)\n",
    "print(\"Using a range of \", format(T - diff, '.5f'), \" =< Period =< \", \n",
    "      format(T + diff,'.5f'), \"the angle \")\n",
    "print(format(theta0,'.5f'),\"was used to find a period of \", \n",
    "      format(period, '.5f'), \"using a theoretical period value of \", \n",
    "      format(T, '.5f'))"
   ]
  },
  {
   "cell_type": "code",
   "execution_count": 12,
   "metadata": {
    "scrolled": false
   },
   "outputs": [],
   "source": [
    "#b\n",
    "#ODE with delta included\n",
    "def dy1_dt(y,t,wo,delta):\n",
    "    y1,y2 = y\n",
    "    dydt = [y2, -wo**2*np.sin(y1)*(1-delta*abs(np.sin(y1)))]\n",
    "    return dydt\n",
    "#constants\n",
    "t_start = 0.\n",
    "t_end = 8.\n",
    "nt = 10000\n",
    "t = np.linspace(t_start,t_end,nt)\n",
    "#linspace for varying delta\n",
    "delt = np.linspace(0.,1.,20)\n",
    "theta0 = np.pi/2\n",
    "#initial condition\n",
    "y0 = [theta0,0.]\n",
    "#array meant for putting values in\n",
    "period = np.linspace(0,0,10)\n",
    "#puts different delta values in, and solves the ODE based on those\n",
    "#delta values; same function as the code found in part a\n",
    "for i in range(10):\n",
    "    sol = integrate.odeint(dy1_dt, y0, t, args = (wo,delt[i]))\n",
    "    theta = sol[0,0]\n",
    "    k = 0\n",
    "    while theta > 0.:\n",
    "        k += 1\n",
    "        theta = sol[k,0]\n",
    "    k += 20\n",
    "    f = interp1d(sol[0:k,0],t[0:k])\n",
    "    period[i] = 4.*f(0.)"
   ]
  },
  {
   "cell_type": "code",
   "execution_count": 13,
   "metadata": {},
   "outputs": [
    {
     "data": {
      "text/plain": [
       "Text(0, 0.5, 'Period (s)')"
      ]
     },
     "execution_count": 13,
     "metadata": {},
     "output_type": "execute_result"
    },
    {
     "data": {
      "image/png": "[encoded data removed]",
      "text/plain": [
       "<Figure size 432x288 with 1 Axes>"
      ]
     },
     "metadata": {
      "needs_background": "light"
     },
     "output_type": "display_data"
    }
   ],
   "source": [
    "#functions for plotting the graph\n",
    "plt.plot(delt[0:10], period[0:10], color = 'm')\n",
    "plt.title(\"Period dependence on delta\")\n",
    "plt.xlabel(\"Delta\")\n",
    "plt.ylabel(\"Period (s)\")"
   ]
  },
  {
   "cell_type": "markdown",
   "metadata": {},
   "source": [
    "### Part c\n",
    "If $\\delta$ = 1, by the equation $\\frac{qE_0}{mg} \\equiv \\delta$, this would indicate that $qE_0 = mg$, which would mean that the Lorentz force is directly equal to the force of gravity acting on the system. Since there are no more forces acting on the system, this would result in the pendulum being in equilibrium, meaning it would be stationary at a given point in space."
   ]
  },
  {
   "cell_type": "code",
   "execution_count": null,
   "metadata": {},
   "outputs": [],
   "source": []
  }
 ],
 "metadata": {
  "kernelspec": {
   "display_name": "Python 3",
   "language": "python",
   "name": "python3"
  },
  "language_info": {
   "codemirror_mode": {
    "name": "ipython",
    "version": 3
   },
   "file_extension": ".py",
   "mimetype": "text/x-python",
   "name": "python",
   "nbconvert_exporter": "python",
   "pygments_lexer": "ipython3",
   "version": "3.6.8"
  }
 },
 "nbformat": 4,
 "nbformat_minor": 2
}
