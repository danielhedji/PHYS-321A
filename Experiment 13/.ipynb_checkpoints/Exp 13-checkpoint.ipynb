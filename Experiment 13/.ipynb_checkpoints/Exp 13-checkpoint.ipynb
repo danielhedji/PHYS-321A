{
 "cells": [
  {
   "cell_type": "code",
   "execution_count": 18,
   "metadata": {},
   "outputs": [],
   "source": [
    "import numpy as np\n",
    "import matplotlib.pyplot as plt"
   ]
  },
  {
   "cell_type": "code",
   "execution_count": 19,
   "metadata": {},
   "outputs": [
    {
     "data": {
      "text/plain": [
       "array([ 8.067,  8.   ,  8.095,  7.98 ,  7.865,  7.873,  7.876,  7.737,\n",
       "        7.677,  7.621,  7.564,  7.542,  7.594,  7.571,  7.497,  7.468,\n",
       "        7.456,  7.46 ,  7.495,  7.482,  7.485,  7.519,  7.564,  7.575,\n",
       "        7.528,  7.511,  7.598,  7.578,  7.549,  7.599,  7.692,  7.659,\n",
       "        7.756,  7.78 ,  7.932,  8.229,  8.382,  8.514,  8.737,  9.057,\n",
       "        9.358,  9.857, 10.159, 11.027, 11.828, 13.664, 19.673, 21.227,\n",
       "        0.   , 26.534, 19.785, 16.207, 14.131, 12.882, 11.728, 10.97 ,\n",
       "       10.497,  9.871,  9.194,  9.22 ,  8.716,  8.588,  8.286,  8.169,\n",
       "        8.113,  7.99 ,  7.827,  7.637,  7.665,  7.696,  7.598,  7.573,\n",
       "        7.536,  7.502,  7.488,  7.419,  7.469,  7.446,  7.513,  7.505,\n",
       "        7.533,  7.51 ,  7.604,  7.557,  7.586,  7.719,  7.593,  7.648,\n",
       "        7.665,  7.738,  7.725,  7.832,  7.836,  7.928,  7.944,  8.14 ,\n",
       "        7.965,  8.017,  0.   ,  0.   ,  0.   ,  0.   ,  6.073,  5.604,\n",
       "        5.99 ,  8.132,  0.   ,  6.396,  5.899,  5.822])"
      ]
     },
     "execution_count": 19,
     "metadata": {},
     "output_type": "execute_result"
    }
   ],
   "source": [
    "#importing the data acquired through the experiment\n",
    "#into a python notebook\n",
    "data = np.loadtxt(r\"321A exp13.txt\")\n",
    "data"
   ]
  },
  {
   "cell_type": "code",
   "execution_count": 20,
   "metadata": {},
   "outputs": [
    {
     "name": "stdout",
     "output_type": "stream",
     "text": [
      "[ 8.067  8.     8.095  7.98   7.865  7.873  7.876  7.737  7.677  7.621\n",
      "  7.564  7.542  7.594  7.571  7.497  7.468  7.456  7.46   7.495  7.482\n",
      "  7.485  7.519  7.564  7.575  7.528  7.511  7.598  7.578  7.549  7.599\n",
      "  7.692  7.659  7.756  7.78   7.932  8.229  8.382  8.514  8.737  9.057\n",
      "  9.358  9.857 10.159 11.027 11.828 13.664 19.673 21.227 10.    26.534\n",
      " 19.785 16.207 14.131 12.882 11.728 10.97  10.497  9.871  9.194  9.22\n",
      "  8.716  8.588  8.286  8.169  8.113  7.99   7.827  7.637  7.665  7.696\n",
      "  7.598  7.573  7.536  7.502  7.488  7.419  7.469  7.446  7.513  7.505\n",
      "  7.533  7.51   7.604  7.557  7.586  7.719  7.593  7.648  7.665  7.738\n",
      "  7.725  7.832  7.836  7.928  7.944  8.14   7.965  8.017]\n",
      "\n",
      "[ 6.073  5.604  5.99   8.132 10.     6.396  5.899  5.822]\n"
     ]
    }
   ],
   "source": [
    "#due to the ordering convention I chose to\n",
    "#distinguish the disk data from the bar data\n",
    "#I'm isolating the data and making the middle 0\n",
    "#term a number that is significantly larger than the rest\n",
    "#to mimic infinity\n",
    "bar_data = data[:-12]\n",
    "disk_data = data[-8:]\n",
    "bar_data[48] = 10\n",
    "disk_data[4] = 10\n",
    "print(bar_data)\n",
    "print()\n",
    "print(disk_data)"
   ]
  },
  {
   "cell_type": "code",
   "execution_count": 21,
   "metadata": {},
   "outputs": [
    {
     "name": "stdout",
     "output_type": "stream",
     "text": [
      "[ 1.6134  1.6     1.619   1.596   1.573   1.5746  1.5752  1.5474  1.5354\n",
      "  1.5242  1.5128  1.5084  1.5188  1.5142  1.4994  1.4936  1.4912  1.492\n",
      "  1.499   1.4964  1.497   1.5038  1.5128  1.515   1.5056  1.5022  1.5196\n",
      "  1.5156  1.5098  1.5198  1.5384  1.5318  1.5512  1.556   1.5864  1.6458\n",
      "  1.6764  1.7028  1.7474  1.8114  1.8716  1.9714  2.0318  2.2054  2.3656\n",
      "  2.7328  3.9346  4.2454 10.      5.3068  3.957   3.2414  2.8262  2.5764\n",
      "  2.3456  2.194   2.0994  1.9742  1.8388  1.844   1.7432  1.7176  1.6572\n",
      "  1.6338  1.6226  1.598   1.5654  1.5274  1.533   1.5392  1.5196  1.5146\n",
      "  1.5072  1.5004  1.4976  1.4838  1.4938  1.4892  1.5026  1.501   1.5066\n",
      "  1.502   1.5208  1.5114  1.5172  1.5438  1.5186  1.5296  1.533   1.5476\n",
      "  1.545   1.5664  1.5672  1.5856  1.5888  1.628   1.593   1.6034]\n",
      "\n",
      "[ 1.2146  1.1208  1.198   1.6264 10.      1.2792  1.1798  1.1644]\n"
     ]
    }
   ],
   "source": [
    "#since all of the periods in the data are\n",
    "#the total time over 5 oscillations, all of the data\n",
    "#is divided by 5\n",
    "for i in range(len(bar_data)):\n",
    "    if bar_data[i] != 10:\n",
    "        bar_data[i] = bar_data[i] / 5\n",
    "for j in range(len(disk_data)):\n",
    "    if disk_data[j] != 10:\n",
    "        disk_data[j] = disk_data[j] / 5\n",
    "print(bar_data)\n",
    "print()\n",
    "print(disk_data)"
   ]
  },
  {
   "cell_type": "markdown",
   "metadata": {},
   "source": [
    "# For the Bar"
   ]
  },
  {
   "cell_type": "markdown",
   "metadata": {},
   "source": [
    "### Method 1"
   ]
  },
  {
   "cell_type": "code",
   "execution_count": 53,
   "metadata": {
    "scrolled": false
   },
   "outputs": [],
   "source": [
    "#an array of distance away from the starting\n",
    "#end of the bar\n",
    "length = np.linspace(49,2,48)"
   ]
  },
  {
   "cell_type": "code",
   "execution_count": 23,
   "metadata": {
    "scrolled": false
   },
   "outputs": [
    {
     "name": "stdout",
     "output_type": "stream",
     "text": [
      "0.04035833016545905\n",
      "30.329660263155873\n"
     ]
    }
   ],
   "source": [
    "#finding the slope and the intercept of the plot\n",
    "slope,intercept = np.polyfit(length ** 2, length * bar_data[:48] ** 2,1)\n",
    "print(slope)\n",
    "print(intercept)"
   ]
  },
  {
   "cell_type": "code",
   "execution_count": 58,
   "metadata": {},
   "outputs": [],
   "source": [
    "#making the best-fit line for the plot\n",
    "p =  np.polyfit(length ** 2, length * bar_data[:48] ** 2,1)\n",
    "x1 = np.linspace(0,max(length ** 2),len(length ** 2))\n",
    "y1 = np.polyval(p,x1)"
   ]
  },
  {
   "cell_type": "code",
   "execution_count": 57,
   "metadata": {},
   "outputs": [
    {
     "data": {
      "image/png": "[encoded data removed]",
      "text/plain": [
       "<Figure size 432x288 with 1 Axes>"
      ]
     },
     "metadata": {
      "needs_background": "light"
     },
     "output_type": "display_data"
    }
   ],
   "source": [
    "#plotting l^2 against lT^2 \n",
    "plt.plot(length ** 2,length * bar_data[:48] ** 2, \".m\",\n",
    "        label = \"Oscillation period\")\n",
    "plt.plot(x1,y1, label = \"Best-fit\", color = \"g\")\n",
    "\n",
    "plt.xlabel(\"L^2 (cm^2)\")\n",
    "plt.ylabel(\"LT^2 (cms^2)\")\n",
    "plt.legend()\n",
    "plt.title(\"Oscillation period over varying axis positions (bar)\")\n",
    "plt.grid()"
   ]
  },
  {
   "cell_type": "code",
   "execution_count": 24,
   "metadata": {
    "scrolled": true
   },
   "outputs": [
    {
     "name": "stdout",
     "output_type": "stream",
     "text": [
      "The experimental value for the acceleration due to gravity is approximately: 978.197 cm^2/s\n"
     ]
    }
   ],
   "source": [
    "#finding gravitational constant g\n",
    "g = 4 * np.pi ** 2 / slope\n",
    "print(\"The experimental value for the acceleration due to gravity \" \\\n",
    "     \"is approximately:\", round(g,3), \"cm^2/s\")"
   ]
  },
  {
   "cell_type": "code",
   "execution_count": 25,
   "metadata": {},
   "outputs": [
    {
     "name": "stdout",
     "output_type": "stream",
     "text": [
      "The gyradius was found to be approximately 5.507 cm\n"
     ]
    }
   ],
   "source": [
    "#using the intercept to find ko\n",
    "print(\"The gyradius was found to be approximately\" \\\n",
    "      , round(np.sqrt(intercept),3), \"cm\")"
   ]
  },
  {
   "cell_type": "markdown",
   "metadata": {},
   "source": [
    "### Method 2"
   ]
  },
  {
   "cell_type": "code",
   "execution_count": 26,
   "metadata": {},
   "outputs": [
    {
     "data": {
      "image/png": "[encoded data removed]",
      "text/plain": [
       "<Figure size 432x288 with 1 Axes>"
      ]
     },
     "metadata": {
      "needs_background": "light"
     },
     "output_type": "display_data"
    }
   ],
   "source": [
    "length1 = np.linspace(49,1,49)\n",
    "length2 = np.linspace(-1,-49,49)\n",
    "plt.plot(length1, bar_data[:49], \"m.\",\n",
    "        label = \"Period at an increasing positive distance from O\")\n",
    "\n",
    "plt.plot(length2,bar_data[49:], \"c.\",\n",
    "         label = \"Period at an decreasing negative distance from O\")\n",
    "\n",
    "plt.legend()\n",
    "plt.title(\"Period of a bar pendulum\")\n",
    "plt.xlabel(\"Distance from end of bar (cm)\")\n",
    "plt.ylabel(\"Period (s)\")\n",
    "plt.grid()"
   ]
  },
  {
   "cell_type": "code",
   "execution_count": 27,
   "metadata": {
    "scrolled": true
   },
   "outputs": [
    {
     "data": {
      "image/png": "[encoded data removed]",
      "text/plain": [
       "<Figure size 432x288 with 1 Axes>"
      ]
     },
     "metadata": {
      "needs_background": "light"
     },
     "output_type": "display_data"
    }
   ],
   "source": [
    "#Expanding a section of the plots\n",
    "plt.plot(length1, bar_data[:49], \"m.\",\n",
    "        label = \"Period at an increasing positive distance from O\")\n",
    "#plotting a line\n",
    "Tx1 = np.linspace(-49,49,100)\n",
    "Ty1 = np.ones(100)\n",
    "plt.plot(Tx1,Ty1 * 1.519, label = \"T1\", color = 'lime')\n",
    "\n",
    "plt.plot(length2,bar_data[49:], \"c.\",\n",
    "         label = \"Period at an decreasing negative distance from O\")\n",
    "\n",
    "plt.legend()\n",
    "plt.title(\"Period of a bar pendulum\")\n",
    "plt.xlabel(\"Distance from end of bar (cm)\")\n",
    "plt.ylabel(\"Period (s)\")\n",
    "plt.ylim(1.5,1.6)\n",
    "plt.grid()"
   ]
  },
  {
   "cell_type": "code",
   "execution_count": 28,
   "metadata": {},
   "outputs": [
    {
     "name": "stdout",
     "output_type": "stream",
     "text": [
      "The gravitational acceleration is approximately 983.812 cm\n"
     ]
    }
   ],
   "source": [
    "\"\"\"To find the values for points A,B,C,D, the values were manually\n",
    "picked from the bar_data array. This was done by estimating the spot in\n",
    "the array where the period would be found. The points were chosen such that\n",
    "they would all fall almost on the lime green line (or reasonably close to it)\"\"\"\n",
    "#Note that each of the values are the magnitude of the distances\n",
    "A,B,C,D = 38,22,19,36\n",
    "l1 = (B + C) / 2\n",
    "l2 = (A + D) / 2\n",
    "T1 = 1.519 #arbitrarily chosen\n",
    "g = (4 * np.pi ** 2 / T1 ** 2) * (l1 + l2)\n",
    "print(\"The gravitational acceleration is approximately\", \\\n",
    "      round(g,3), \"cm\")"
   ]
  },
  {
   "cell_type": "markdown",
   "metadata": {},
   "source": [
    "# For the Disk"
   ]
  },
  {
   "cell_type": "code",
   "execution_count": 50,
   "metadata": {},
   "outputs": [],
   "source": [
    "#appending everything that is not the infinity point\n",
    "li = []\n",
    "for i in disk_data:\n",
    "    if i != 10:\n",
    "        li.append(i)\n",
    "li = np.array(li)"
   ]
  },
  {
   "cell_type": "code",
   "execution_count": 34,
   "metadata": {},
   "outputs": [],
   "source": [
    "#ignoring the middle point, taking the distances \n",
    "#from c.o.m. \n",
    "length_disk1 = [4.9,10.1,13.6,15.1,19.8,21.3,23.5,]\n",
    "length_disk1 = np.array(length_disk1)"
   ]
  },
  {
   "cell_type": "code",
   "execution_count": 44,
   "metadata": {
    "scrolled": true
   },
   "outputs": [
    {
     "name": "stdout",
     "output_type": "stream",
     "text": [
      "0.04423228575846446\n",
      "12.51577351177531\n"
     ]
    }
   ],
   "source": [
    "#finding the slope and the intercept of the plot\n",
    "slope,intercept = np.polyfit(length_disk1 ** 2, \n",
    "                             length_disk1 * li ** 2,1)\n",
    "print(slope)\n",
    "print(intercept)"
   ]
  },
  {
   "cell_type": "code",
   "execution_count": 49,
   "metadata": {},
   "outputs": [],
   "source": [
    "#making the best-fit line for the scatter plot\n",
    "p =np.polyfit(length_disk1 ** 2, \n",
    "                             length_disk1 * li ** 2,1)\n",
    "x1 = np.linspace(0,max(length_disk1 ** 2),len(length_disk1 ** 2))\n",
    "y1 = np.polyval(p,x1)"
   ]
  },
  {
   "cell_type": "code",
   "execution_count": 46,
   "metadata": {},
   "outputs": [
    {
     "data": {
      "text/plain": [
       "<matplotlib.legend.Legend at 0x7fa07c3153c8>"
      ]
     },
     "execution_count": 46,
     "metadata": {},
     "output_type": "execute_result"
    },
    {
     "data": {
      "image/png": "[encoded data removed]",
      "text/plain": [
       "<Figure size 432x288 with 1 Axes>"
      ]
     },
     "metadata": {
      "needs_background": "light"
     },
     "output_type": "display_data"
    }
   ],
   "source": [
    "plt.plot(length_disk1 ** 2, length_disk1 * li **  2,\n",
    "        \"m.\", label = \"Oscillation period\")\n",
    "plt.plot(x1,y1, label = \"Best-fit\")\n",
    "\n",
    "plt.plot(x1,y1)\n",
    "plt.title(\"Oscillation period with varying axis position (disk)\")\n",
    "plt.xlabel(\"L^2 (cm^2)\")\n",
    "plt.ylabel(\"LT^2 (cms^2)\")\n",
    "plt.grid()\n",
    "plt.legend()"
   ]
  },
  {
   "cell_type": "code",
   "execution_count": 47,
   "metadata": {},
   "outputs": [
    {
     "name": "stdout",
     "output_type": "stream",
     "text": [
      "The experimental value for the acceleration due to gravity is approximately: 892.525 cm^2/s\n"
     ]
    }
   ],
   "source": [
    "#finding the gravitational constant g for the disk\n",
    "g = 4 * np.pi ** 2 / slope\n",
    "print(\"The experimental value for the acceleration due to gravity \" \\\n",
    "     \"is approximately:\", round(g,3), \"cm^2/s\")"
   ]
  },
  {
   "cell_type": "code",
   "execution_count": 48,
   "metadata": {},
   "outputs": [
    {
     "name": "stdout",
     "output_type": "stream",
     "text": [
      "The gyradius was found to be approximately 3.538 cm\n"
     ]
    }
   ],
   "source": [
    "#using the intercept to find ko\n",
    "print(\"The gyradius was found to be approximately\" \\\n",
    "      , round(np.sqrt(intercept),3), \"cm\")"
   ]
  },
  {
   "cell_type": "code",
   "execution_count": null,
   "metadata": {},
   "outputs": [],
   "source": []
  }
 ],
 "metadata": {
  "kernelspec": {
   "display_name": "Python 3",
   "language": "python",
   "name": "python3"
  },
  "language_info": {
   "codemirror_mode": {
    "name": "ipython",
    "version": 3
   },
   "file_extension": ".py",
   "mimetype": "text/x-python",
   "name": "python",
   "nbconvert_exporter": "python",
   "pygments_lexer": "ipython3",
   "version": "3.7.3"
  }
 },
 "nbformat": 4,
 "nbformat_minor": 2
}
