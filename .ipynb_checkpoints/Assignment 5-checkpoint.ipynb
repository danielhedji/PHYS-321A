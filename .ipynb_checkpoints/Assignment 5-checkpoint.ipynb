{
 "cells": [
  {
   "cell_type": "code",
   "execution_count": 4,
   "metadata": {},
   "outputs": [],
   "source": [
    "#Daniel Hedji\n",
    "#V00887395"
   ]
  },
  {
   "cell_type": "code",
   "execution_count": 4,
   "metadata": {},
   "outputs": [],
   "source": [
    "#constants\n",
    "Re = 1.496e11 #in m\n",
    "Rj = 7.784e11 #in m\n",
    "Mj = 1.90e27 #in kg\n",
    "G1 = 6.67e-11 #in Nm^2/kg^2"
   ]
  },
  {
   "cell_type": "code",
   "execution_count": 70,
   "metadata": {},
   "outputs": [],
   "source": [
    "import matplotlib.pyplot as plt\n",
    "from sympy import *\n",
    "init_printing(pretty_print=True)"
   ]
  },
  {
   "cell_type": "code",
   "execution_count": 6,
   "metadata": {},
   "outputs": [],
   "source": [
    "x, r, R, theta, mu, G, M, g = symbols('x r R theta mu G M g')\n",
    "n = symbols('n', integer=True)\n",
    "f, genfun, phi = symbols('f genfun phi', cls=Function)"
   ]
  },
  {
   "cell_type": "code",
   "execution_count": 7,
   "metadata": {},
   "outputs": [
    {
     "data": {
      "image/png": "[encoded data removed]",
      "text/latex": [
       "$\\displaystyle \\frac{1}{\\sqrt{x^{2} - 2 x \\cos{\\left(\\theta \\right)} + 1}}$"
      ],
      "text/plain": [
       "           1            \n",
       "────────────────────────\n",
       "   _____________________\n",
       "  ╱  2                  \n",
       "╲╱  x  - 2⋅x⋅cos(θ) + 1 "
      ]
     },
     "execution_count": 7,
     "metadata": {},
     "output_type": "execute_result"
    }
   ],
   "source": [
    "genfun = 1/sqrt(1+x**2-2*x*cos(theta))\n",
    "genfun"
   ]
  },
  {
   "cell_type": "code",
   "execution_count": 8,
   "metadata": {},
   "outputs": [
    {
     "data": {
      "image/png": "[encoded data removed]",
      "text/latex": [
       "$\\displaystyle 1 + x \\cos{\\left(\\theta \\right)} + x^{2} \\left(\\frac{3 \\cos^{2}{\\left(\\theta \\right)}}{2} - \\frac{1}{2}\\right) + x^{3} \\left(\\frac{5 \\cos^{3}{\\left(\\theta \\right)}}{2} - \\frac{3 \\cos{\\left(\\theta \\right)}}{2}\\right) + O\\left(x^{4}\\right)$"
      ],
      "text/plain": [
       "                  ⎛     2       ⎞      ⎛     3              ⎞        \n",
       "                2 ⎜3⋅cos (θ)   1⎟    3 ⎜5⋅cos (θ)   3⋅cos(θ)⎟    ⎛ 4⎞\n",
       "1 + x⋅cos(θ) + x ⋅⎜───────── - ─⎟ + x ⋅⎜───────── - ────────⎟ + O⎝x ⎠\n",
       "                  ⎝    2       2⎠      ⎝    2          2    ⎠        "
      ]
     },
     "execution_count": 8,
     "metadata": {},
     "output_type": "execute_result"
    }
   ],
   "source": [
    "genfun.series(x,0,4)"
   ]
  },
  {
   "cell_type": "code",
   "execution_count": 9,
   "metadata": {},
   "outputs": [
    {
     "data": {
      "image/png": "[encoded data removed]",
      "text/latex": [
       "$\\displaystyle x^{3} \\left(\\frac{5 \\cos^{3}{\\left(\\theta \\right)}}{2} - \\frac{3 \\cos{\\left(\\theta \\right)}}{2}\\right) + x^{2} \\left(\\frac{3 \\cos^{2}{\\left(\\theta \\right)}}{2} - \\frac{1}{2}\\right) + x \\cos{\\left(\\theta \\right)} + 1$"
      ],
      "text/plain": [
       "   ⎛     3              ⎞      ⎛     2       ⎞               \n",
       " 3 ⎜5⋅cos (θ)   3⋅cos(θ)⎟    2 ⎜3⋅cos (θ)   1⎟               \n",
       "x ⋅⎜───────── - ────────⎟ + x ⋅⎜───────── - ─⎟ + x⋅cos(θ) + 1\n",
       "   ⎝    2          2    ⎠      ⎝    2       2⎠               "
      ]
     },
     "execution_count": 9,
     "metadata": {},
     "output_type": "execute_result"
    }
   ],
   "source": [
    "getfunc_trunc = (genfun.series(x,0,4)).removeO()\n",
    "getfunc_trunc"
   ]
  },
  {
   "cell_type": "code",
   "execution_count": 10,
   "metadata": {},
   "outputs": [
    {
     "data": {
      "image/png": "[encoded data removed]",
      "text/latex": [
       "$\\displaystyle \\left[ 1, \\  \\cos{\\left(\\theta \\right)}, \\  \\frac{3 \\cos^{2}{\\left(\\theta \\right)} - 1}{2}, \\  \\frac{\\left(5 \\cos^{2}{\\left(\\theta \\right)} - 3\\right) \\cos{\\left(\\theta \\right)}}{2}\\right]$"
      ],
      "text/plain": [
       "⎡                2         ⎛     2       ⎞       ⎤\n",
       "⎢           3⋅cos (θ) - 1  ⎝5⋅cos (θ) - 3⎠⋅cos(θ)⎥\n",
       "⎢1, cos(θ), ─────────────, ──────────────────────⎥\n",
       "⎣                 2                  2           ⎦"
      ]
     },
     "execution_count": 10,
     "metadata": {},
     "output_type": "execute_result"
    }
   ],
   "source": [
    "coeff = [getfunc_trunc.coeff(x,i).factor() for i in range(4)]\n",
    "coeff"
   ]
  },
  {
   "cell_type": "code",
   "execution_count": 11,
   "metadata": {},
   "outputs": [
    {
     "data": {
      "image/png": "[encoded data removed]",
      "text/latex": [
       "$\\displaystyle \\left( 1, \\  \\cos{\\left(\\theta \\right)}, \\  \\frac{3 \\cos^{2}{\\left(\\theta \\right)}}{2} - \\frac{1}{2}, \\  \\frac{5 \\cos^{3}{\\left(\\theta \\right)}}{2} - \\frac{3 \\cos{\\left(\\theta \\right)}}{2}\\right)$"
      ],
      "text/plain": [
       "⎛                2              3              ⎞\n",
       "⎜           3⋅cos (θ)   1  5⋅cos (θ)   3⋅cos(θ)⎟\n",
       "⎜1, cos(θ), ───────── - ─, ───────── - ────────⎟\n",
       "⎝               2       2      2          2    ⎠"
      ]
     },
     "execution_count": 11,
     "metadata": {},
     "output_type": "execute_result"
    }
   ],
   "source": [
    "legendre(0,cos(theta)), legendre(1,cos(theta)),\\\n",
    "legendre(2,cos(theta)), legendre(3,cos(theta))"
   ]
  },
  {
   "cell_type": "code",
   "execution_count": 12,
   "metadata": {},
   "outputs": [
    {
     "data": {
      "image/png": "[encoded data removed]",
      "text/latex": [
       "$\\displaystyle \\frac{\\pi x^{2}}{4} + \\pi$"
      ],
      "text/plain": [
       "   2    \n",
       "π⋅x     \n",
       "──── + π\n",
       " 4      "
      ]
     },
     "execution_count": 12,
     "metadata": {},
     "output_type": "execute_result"
    }
   ],
   "source": [
    "integral = integrate(getfunc_trunc, (theta,0,pi))\n",
    "integral"
   ]
  },
  {
   "cell_type": "code",
   "execution_count": 13,
   "metadata": {},
   "outputs": [
    {
     "data": {
      "image/png": "[encoded data removed]",
      "text/latex": [
       "$\\displaystyle - 2 G \\mu x \\left(\\frac{\\pi x^{2}}{4} + \\pi\\right)$"
      ],
      "text/plain": [
       "         ⎛   2    ⎞\n",
       "         ⎜π⋅x     ⎟\n",
       "-2⋅G⋅μ⋅x⋅⎜──── + π⎟\n",
       "         ⎝ 4      ⎠"
      ]
     },
     "execution_count": 13,
     "metadata": {},
     "output_type": "execute_result"
    }
   ],
   "source": [
    "phi = -2*x*mu*G*integral\n",
    "phi"
   ]
  },
  {
   "cell_type": "code",
   "execution_count": 14,
   "metadata": {},
   "outputs": [
    {
     "data": {
      "image/png": "[encoded data removed]",
      "text/latex": [
       "$\\displaystyle - \\frac{G M x \\left(\\frac{\\pi x^{2}}{4} + \\pi\\right)}{\\pi r}$"
      ],
      "text/plain": [
       "       ⎛   2    ⎞ \n",
       "       ⎜π⋅x     ⎟ \n",
       "-G⋅M⋅x⋅⎜──── + π⎟ \n",
       "       ⎝ 4      ⎠ \n",
       "──────────────────\n",
       "       π⋅r        "
      ]
     },
     "execution_count": 14,
     "metadata": {},
     "output_type": "execute_result"
    }
   ],
   "source": [
    "f = phi.subs({mu:M/(2*pi*r)})\n",
    "f"
   ]
  },
  {
   "cell_type": "code",
   "execution_count": 15,
   "metadata": {},
   "outputs": [
    {
     "data": {
      "image/png": "[encoded data removed]",
      "text/latex": [
       "$\\displaystyle - \\frac{G M \\left(4 R^{2} + r^{2}\\right)}{4 R^{3}}$"
      ],
      "text/plain": [
       "     ⎛   2    2⎞ \n",
       "-G⋅M⋅⎝4⋅R  + r ⎠ \n",
       "─────────────────\n",
       "          3      \n",
       "       4⋅R       "
      ]
     },
     "execution_count": 15,
     "metadata": {},
     "output_type": "execute_result"
    }
   ],
   "source": [
    "g = (f.subs({x:(r/R)})).simplify()\n",
    "g"
   ]
  },
  {
   "cell_type": "code",
   "execution_count": 16,
   "metadata": {},
   "outputs": [
    {
     "name": "stdout",
     "output_type": "stream",
     "text": [
      "The average gravitational potential that Jupiter exerts on Earth is approximately: -164,311.723 Joules\n"
     ]
    }
   ],
   "source": [
    "#b\n",
    "#approximating phi by taking the first two terms\n",
    "# phi = (-G * Mj / Rj) * (1 + Re ** 2 / (4 * Rj ** 2))\n",
    "gJE = (g.subs({G:G1, M:Mj, R:Rj, r:Re}))\n",
    "print(\"The average gravitational potential that Jupiter exerts \" \\\n",
    "     \"on Earth is approximately:\",format(gJE,\",.3f\"), \"Joules\")"
   ]
  },
  {
   "cell_type": "code",
   "execution_count": 129,
   "metadata": {},
   "outputs": [
    {
     "name": "stdout",
     "output_type": "stream",
     "text": [
      "The potential was found to be -164343.79162667447\n",
      "The potential in c) has a difference of 32.0682325356756 J when compared to the potential found in b\n",
      "The number of masses needed to reach the potential is: 8388608\n"
     ]
    }
   ],
   "source": [
    "#c\n",
    "count = 0\n",
    "diff = 1e-2\n",
    "phi2 = 0\n",
    "potential = 0\n",
    "\n",
    "for i in range(1,25):\n",
    "    phi1 = phix(2 ** i,Mj / 2 ** i,G1,Rj,Re)\n",
    "    if abs(phi1 - phi2) <= diff:\n",
    "        count = 2**i\n",
    "        potential = phi1\n",
    "        break\n",
    "        \n",
    "    else:\n",
    "        phi2 = phi1\n",
    "        \n",
    "print(\"The potential was found to be\", potential)\n",
    "print(\"The potential in c) has a difference of\", gJE - potential, \\\n",
    "      \"J when compared to the potential found in b\")\n",
    "print(\"The number of masses needed to reach the potential is:\", count)"
   ]
  },
  {
   "cell_type": "code",
   "execution_count": 119,
   "metadata": {},
   "outputs": [],
   "source": [
    "import numpy as np\n",
    "def phix(N,M,G,R,r):\n",
    "    n_div = int(N/2)\n",
    "    coef = -2 * G * M / R\n",
    "    x = r / R\n",
    "    j = 0\n",
    "    val = []\n",
    "    while j < n_div:\n",
    "        alpha = j * 2 * np.pi / N\n",
    "        summ = (1 + x ** 2 - 2 * x * np.cos(alpha)) ** -0.5\n",
    "        val.append(coef * summ)\n",
    "        j += 1\n",
    "    return sum(val)"
   ]
  },
  {
   "cell_type": "code",
   "execution_count": null,
   "metadata": {},
   "outputs": [],
   "source": [
    "#constants\n",
    "Re = 1.496e11 #in m\n",
    "Rj = 7.784e11 #in m\n",
    "Mj = 1.90e27 #in kg\n",
    "G1 = 6.67e-11 #in Nm^2/kg^2"
   ]
  },
  {
   "cell_type": "code",
   "execution_count": 122,
   "metadata": {},
   "outputs": [],
   "source": [
    "#d\n",
    "def potential1(r,M,G,R):\n",
    "    count = 0\n",
    "    diff = 1e-2\n",
    "    phi2 = 0\n",
    "    potential = 0\n",
    "\n",
    "    for i in range(1,25):\n",
    "        phi1 = phix(2 ** i,M / 2 ** i,G,R,r)\n",
    "        if abs(phi1 - phi2) <= diff:\n",
    "            count = 2**i\n",
    "            potential = phi1\n",
    "            break\n",
    "        \n",
    "        else:\n",
    "            phi2 = phi1\n",
    "    return potential"
   ]
  },
  {
   "cell_type": "code",
   "execution_count": 123,
   "metadata": {},
   "outputs": [],
   "source": [
    "r1 = [0,0.2,0.4,0.6,0.8]\n",
    "r = [0 * Re,0.2 * Re,0.4 * Re,0.6 * Re,0.8 * Re]\n",
    "pot = []\n",
    "for t in r:\n",
    "    potens = potential1(t,Mj,G1,Rj)\n",
    "    pot.append(potens)"
   ]
  },
  {
   "cell_type": "code",
   "execution_count": 124,
   "metadata": {},
   "outputs": [
    {
     "data": {
      "image/png": "[encoded data removed]",
      "text/latex": [
       "$\\displaystyle \\left[ -1535.4668579180434, \\  -1475.2749071768485, \\  -1294.1141382101923, \\  -990.1483394360403, \\  -560.2774855631869\\right]$"
      ],
      "text/plain": [
       "[-1535.4668579180434, -1475.2749071768485, -1294.1141382101923, -990.148339436\n",
       "0403, -560.2774855631869]"
      ]
     },
     "execution_count": 124,
     "metadata": {},
     "output_type": "execute_result"
    }
   ],
   "source": [
    "difference = []\n",
    "for q in pot:\n",
    "    difference.append(-q + potential)\n",
    "difference"
   ]
  },
  {
   "cell_type": "code",
   "execution_count": 125,
   "metadata": {},
   "outputs": [
    {
     "data": {
      "text/plain": [
       "<matplotlib.legend.Legend at 0x7f5b181f55c0>"
      ]
     },
     "execution_count": 125,
     "metadata": {},
     "output_type": "execute_result"
    },
    {
     "data": {
      "image/png": "[encoded data removed]",
      "text/plain": [
       "<Figure size 432x288 with 1 Axes>"
      ]
     },
     "metadata": {
      "needs_background": "light"
     },
     "output_type": "display_data"
    }
   ],
   "source": [
    "plt.title(\"Gravitational potential due to Jupiter\")\n",
    "plt.xlabel(\"integer multiples of r\")\n",
    "plt.ylabel(\"Potential (j)\")\n",
    "plt.plot(r1,difference, label = \"potential\")\n",
    "plt.legend()"
   ]
  },
  {
   "cell_type": "code",
   "execution_count": null,
   "metadata": {},
   "outputs": [],
   "source": []
  }
 ],
 "metadata": {
  "kernelspec": {
   "display_name": "Python 3",
   "language": "python",
   "name": "python3"
  },
  "language_info": {
   "codemirror_mode": {
    "name": "ipython",
    "version": 3
   },
   "file_extension": ".py",
   "mimetype": "text/x-python",
   "name": "python",
   "nbconvert_exporter": "python",
   "pygments_lexer": "ipython3",
   "version": "3.7.3"
  }
 },
 "nbformat": 4,
 "nbformat_minor": 2
}
