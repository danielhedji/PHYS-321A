{
 "cells": [
  {
   "cell_type": "code",
   "execution_count": 1,
   "metadata": {},
   "outputs": [],
   "source": [
    "import matplotlib.pyplot as plt\n",
    "import sympy as sp"
   ]
  },
  {
   "cell_type": "code",
   "execution_count": 2,
   "metadata": {},
   "outputs": [],
   "source": [
    "sp.init_printing(pretty_print=True)"
   ]
  },
  {
   "cell_type": "code",
   "execution_count": 6,
   "metadata": {},
   "outputs": [],
   "source": [
    "x, y, g, y1, y2 = sp.symbols('x y g y1 y2')\n",
    "L = sp.symbols('L', cls=sp.Function)"
   ]
  },
  {
   "cell_type": "code",
   "execution_count": 9,
   "metadata": {},
   "outputs": [
    {
     "data": {
      "image/png": "[encoded data removed]",
      "text/latex": [
       "$\\displaystyle \\frac{\\sqrt{2} \\sqrt{\\frac{y_{1}^{2} + 1}{g y}}}{2}$"
      ],
      "text/plain": [
       "        _________\n",
       "       ╱   2     \n",
       "      ╱  y₁  + 1 \n",
       "√2⋅  ╱   ─────── \n",
       "   ╲╱      g⋅y   \n",
       "─────────────────\n",
       "        2        "
      ]
     },
     "execution_count": 9,
     "metadata": {},
     "output_type": "execute_result"
    }
   ],
   "source": [
    "L = sp.sqrt((1 + y1 ** 2) / (2 * g * y))\n",
    "L"
   ]
  },
  {
   "cell_type": "code",
   "execution_count": 12,
   "metadata": {},
   "outputs": [
    {
     "data": {
      "image/png": "[encoded data removed]",
      "text/latex": [
       "$\\displaystyle - \\frac{\\sqrt{2} \\sqrt{\\frac{y_{1}^{2} + 1}{g y}}}{4 y}$"
      ],
      "text/plain": [
       "         _________ \n",
       "        ╱   2      \n",
       "       ╱  y₁  + 1  \n",
       "-√2⋅  ╱   ───────  \n",
       "    ╲╱      g⋅y    \n",
       "───────────────────\n",
       "        4⋅y        "
      ]
     },
     "execution_count": 12,
     "metadata": {},
     "output_type": "execute_result"
    }
   ],
   "source": [
    "RHS = L.diff(y)\n",
    "RHS"
   ]
  },
  {
   "cell_type": "code",
   "execution_count": 13,
   "metadata": {},
   "outputs": [
    {
     "data": {
      "image/png": "[encoded data removed]",
      "text/latex": [
       "$\\displaystyle - \\frac{\\sqrt{2} y_{1} \\sqrt{\\frac{y_{1}^{2} + 1}{g y}}}{4 y \\left(y_{1}^{2} + 1\\right)}$"
      ],
      "text/plain": [
       "            _________ \n",
       "           ╱   2      \n",
       "          ╱  y₁  + 1  \n",
       "-√2⋅y₁⋅  ╱   ───────  \n",
       "       ╲╱      g⋅y    \n",
       "──────────────────────\n",
       "        ⎛  2    ⎞     \n",
       "    4⋅y⋅⎝y₁  + 1⎠     "
      ]
     },
     "execution_count": 13,
     "metadata": {},
     "output_type": "execute_result"
    }
   ],
   "source": [
    "LHS1 = L.diff(y1,y)\n",
    "LHS1"
   ]
  },
  {
   "cell_type": "code",
   "execution_count": 14,
   "metadata": {},
   "outputs": [
    {
     "data": {
      "image/png": "[encoded data removed]",
      "text/latex": [
       "$\\displaystyle - \\frac{\\sqrt{2} \\sqrt{\\frac{y_{1}^{2} + 1}{g y}} \\left(\\frac{y_{1}^{2}}{y_{1}^{2} + 1} - 1\\right)}{2 \\left(y_{1}^{2} + 1\\right)}$"
      ],
      "text/plain": [
       "         _________               \n",
       "        ╱   2      ⎛    2      ⎞ \n",
       "       ╱  y₁  + 1  ⎜  y₁       ⎟ \n",
       "-√2⋅  ╱   ─────── ⋅⎜─────── - 1⎟ \n",
       "    ╲╱      g⋅y    ⎜  2        ⎟ \n",
       "                   ⎝y₁  + 1    ⎠ \n",
       "─────────────────────────────────\n",
       "             ⎛  2    ⎞           \n",
       "           2⋅⎝y₁  + 1⎠           "
      ]
     },
     "execution_count": 14,
     "metadata": {},
     "output_type": "execute_result"
    }
   ],
   "source": [
    "LHS2 = L.diff(y1,y1)\n",
    "LHS2"
   ]
  },
  {
   "cell_type": "code",
   "execution_count": 15,
   "metadata": {},
   "outputs": [
    {
     "data": {
      "image/png": "[encoded data removed]",
      "text/latex": [
       "$\\displaystyle \\frac{\\sqrt{2} \\sqrt{\\frac{y_{1}^{2} + 1}{g y}} \\left(2 y y_{2} + y_{1}^{2} + 1\\right)}{4 y \\left(y_{1}^{4} + 2 y_{1}^{2} + 1\\right)}$"
      ],
      "text/plain": [
       "        _________                   \n",
       "       ╱   2                        \n",
       "      ╱  y₁  + 1  ⎛           2    ⎞\n",
       "√2⋅  ╱   ─────── ⋅⎝2⋅y⋅y₂ + y₁  + 1⎠\n",
       "   ╲╱      g⋅y                      \n",
       "────────────────────────────────────\n",
       "           ⎛  4       2    ⎞        \n",
       "       4⋅y⋅⎝y₁  + 2⋅y₁  + 1⎠        "
      ]
     },
     "execution_count": 15,
     "metadata": {},
     "output_type": "execute_result"
    }
   ],
   "source": [
    "LHS = y1*LHS1 + y2*LHS2\n",
    "(LHS-RHS).simplify()"
   ]
  },
  {
   "cell_type": "code",
   "execution_count": null,
   "metadata": {},
   "outputs": [],
   "source": []
  }
 ],
 "metadata": {
  "kernelspec": {
   "display_name": "Python 3",
   "language": "python",
   "name": "python3"
  },
  "language_info": {
   "codemirror_mode": {
    "name": "ipython",
    "version": 3
   },
   "file_extension": ".py",
   "mimetype": "text/x-python",
   "name": "python",
   "nbconvert_exporter": "python",
   "pygments_lexer": "ipython3",
   "version": "3.7.3"
  }
 },
 "nbformat": 4,
 "nbformat_minor": 2
}
